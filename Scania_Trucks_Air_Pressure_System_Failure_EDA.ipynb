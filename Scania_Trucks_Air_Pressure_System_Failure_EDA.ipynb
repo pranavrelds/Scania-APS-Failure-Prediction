{
  "nbformat": 4,
  "nbformat_minor": 5,
  "metadata": {
    "kernelspec": {
      "display_name": "Python 3",
      "language": "python",
      "name": "python3"
    },
    "language_info": {
      "codemirror_mode": {
        "name": "ipython",
        "version": 3
      },
      "file_extension": ".py",
      "mimetype": "text/x-python",
      "name": "python",
      "nbconvert_exporter": "python",
      "pygments_lexer": "ipython3",
      "version": "3.8.10"
    },
    "colab": {
      "name": "Scania Trucks Air Pressure System Failure - EDA.ipynb",
      "provenance": [],
      "collapsed_sections": [
        "5501b5c9"
      ],
      "machine_shape": "hm",
      "include_colab_link": true
    },
    "accelerator": "TPU"
  },
  "cells": [
    {
      "cell_type": "markdown",
      "metadata": {
        "id": "view-in-github",
        "colab_type": "text"
      },
      "source": [
        "<a href=\"https://colab.research.google.com/github/pranavrelds/scania-APS-Failure-Prediction/blob/main/Scania_Trucks_Air_Pressure_System_Failure_EDA.ipynb\" target=\"_parent\"><img src=\"https://colab.research.google.com/assets/colab-badge.svg\" alt=\"Open In Colab\"/></a>"
      ]
    },
    {
      "cell_type": "code",
      "metadata": {
        "colab": {
          "base_uri": "https://localhost:8080/"
        },
        "id": "579d3307",
        "outputId": "2e3c7874-e48a-4480-8ce7-d1c8eaa9c8e2"
      },
      "source": [
        "from google.colab import drive\n",
        "drive.mount('/content/drive')"
      ],
      "id": "579d3307",
      "execution_count": 1,
      "outputs": [
        {
          "output_type": "stream",
          "text": [
            "Mounted at /content/drive\n"
          ],
          "name": "stdout"
        }
      ]
    },
    {
      "cell_type": "markdown",
      "metadata": {
        "id": "X_rkCPqESUMH"
      },
      "source": [
        "# Libraries"
      ],
      "id": "X_rkCPqESUMH"
    },
    {
      "cell_type": "code",
      "metadata": {
        "id": "9ZLGnykpuWBf"
      },
      "source": [
        "! pip install feature-engine"
      ],
      "id": "9ZLGnykpuWBf",
      "execution_count": 86,
      "outputs": []
    },
    {
      "cell_type": "code",
      "metadata": {
        "id": "ee838fee"
      },
      "source": [
        "import numpy as np\n",
        "import pandas as pd\n",
        "import seaborn as sns\n",
        "from collections import Counter\n",
        "import matplotlib.pyplot as plt\n",
        "\n",
        "from sklearn.impute import KNNImputer\n",
        "from sklearn.decomposition import PCA\n",
        "from imblearn.over_sampling import SMOTE\n",
        "from sklearn.preprocessing import StandardScaler\n",
        "from sklearn.feature_selection import VarianceThreshold\n",
        "from feature_engine.selection import DropDuplicateFeatures, DropConstantFeatures, RecursiveFeatureElimination"
      ],
      "id": "ee838fee",
      "execution_count": 62,
      "outputs": []
    },
    {
      "cell_type": "markdown",
      "metadata": {
        "id": "PXYEgLSYSYtm"
      },
      "source": [
        "# Configurations"
      ],
      "id": "PXYEgLSYSYtm"
    },
    {
      "cell_type": "code",
      "metadata": {
        "colab": {
          "base_uri": "https://localhost:8080/",
          "height": 161
        },
        "id": "_0aBkPzSScOz",
        "outputId": "ccc44391-b133-41f7-f6c0-58d95cc7d8e2"
      },
      "source": [
        "DIR = '/content/drive/MyDrive/Scania Trucks APS Failure Prediction/'\n",
        "DF_TRAIN = pd.read_csv(DIR+'aps_failure_training_set.csv')\n",
        "DF_TRAIN.head(2)"
      ],
      "id": "_0aBkPzSScOz",
      "execution_count": 16,
      "outputs": [
        {
          "output_type": "execute_result",
          "data": {
            "text/html": [
              "<div>\n",
              "<style scoped>\n",
              "    .dataframe tbody tr th:only-of-type {\n",
              "        vertical-align: middle;\n",
              "    }\n",
              "\n",
              "    .dataframe tbody tr th {\n",
              "        vertical-align: top;\n",
              "    }\n",
              "\n",
              "    .dataframe thead th {\n",
              "        text-align: right;\n",
              "    }\n",
              "</style>\n",
              "<table border=\"1\" class=\"dataframe\">\n",
              "  <thead>\n",
              "    <tr style=\"text-align: right;\">\n",
              "      <th></th>\n",
              "      <th>class</th>\n",
              "      <th>aa_000</th>\n",
              "      <th>ab_000</th>\n",
              "      <th>ac_000</th>\n",
              "      <th>ad_000</th>\n",
              "      <th>ae_000</th>\n",
              "      <th>af_000</th>\n",
              "      <th>ag_000</th>\n",
              "      <th>ag_001</th>\n",
              "      <th>ag_002</th>\n",
              "      <th>ag_003</th>\n",
              "      <th>ag_004</th>\n",
              "      <th>ag_005</th>\n",
              "      <th>ag_006</th>\n",
              "      <th>ag_007</th>\n",
              "      <th>ag_008</th>\n",
              "      <th>ag_009</th>\n",
              "      <th>ah_000</th>\n",
              "      <th>ai_000</th>\n",
              "      <th>aj_000</th>\n",
              "      <th>ak_000</th>\n",
              "      <th>al_000</th>\n",
              "      <th>am_0</th>\n",
              "      <th>an_000</th>\n",
              "      <th>ao_000</th>\n",
              "      <th>ap_000</th>\n",
              "      <th>aq_000</th>\n",
              "      <th>ar_000</th>\n",
              "      <th>as_000</th>\n",
              "      <th>at_000</th>\n",
              "      <th>au_000</th>\n",
              "      <th>av_000</th>\n",
              "      <th>ax_000</th>\n",
              "      <th>ay_000</th>\n",
              "      <th>ay_001</th>\n",
              "      <th>ay_002</th>\n",
              "      <th>ay_003</th>\n",
              "      <th>ay_004</th>\n",
              "      <th>ay_005</th>\n",
              "      <th>ay_006</th>\n",
              "      <th>...</th>\n",
              "      <th>db_000</th>\n",
              "      <th>dc_000</th>\n",
              "      <th>dd_000</th>\n",
              "      <th>de_000</th>\n",
              "      <th>df_000</th>\n",
              "      <th>dg_000</th>\n",
              "      <th>dh_000</th>\n",
              "      <th>di_000</th>\n",
              "      <th>dj_000</th>\n",
              "      <th>dk_000</th>\n",
              "      <th>dl_000</th>\n",
              "      <th>dm_000</th>\n",
              "      <th>dn_000</th>\n",
              "      <th>do_000</th>\n",
              "      <th>dp_000</th>\n",
              "      <th>dq_000</th>\n",
              "      <th>dr_000</th>\n",
              "      <th>ds_000</th>\n",
              "      <th>dt_000</th>\n",
              "      <th>du_000</th>\n",
              "      <th>dv_000</th>\n",
              "      <th>dx_000</th>\n",
              "      <th>dy_000</th>\n",
              "      <th>dz_000</th>\n",
              "      <th>ea_000</th>\n",
              "      <th>eb_000</th>\n",
              "      <th>ec_00</th>\n",
              "      <th>ed_000</th>\n",
              "      <th>ee_000</th>\n",
              "      <th>ee_001</th>\n",
              "      <th>ee_002</th>\n",
              "      <th>ee_003</th>\n",
              "      <th>ee_004</th>\n",
              "      <th>ee_005</th>\n",
              "      <th>ee_006</th>\n",
              "      <th>ee_007</th>\n",
              "      <th>ee_008</th>\n",
              "      <th>ee_009</th>\n",
              "      <th>ef_000</th>\n",
              "      <th>eg_000</th>\n",
              "    </tr>\n",
              "  </thead>\n",
              "  <tbody>\n",
              "    <tr>\n",
              "      <th>0</th>\n",
              "      <td>neg</td>\n",
              "      <td>76698</td>\n",
              "      <td>na</td>\n",
              "      <td>2130706438</td>\n",
              "      <td>280</td>\n",
              "      <td>0</td>\n",
              "      <td>0</td>\n",
              "      <td>0</td>\n",
              "      <td>0</td>\n",
              "      <td>0</td>\n",
              "      <td>0</td>\n",
              "      <td>37250</td>\n",
              "      <td>1432864</td>\n",
              "      <td>3664156</td>\n",
              "      <td>1007684</td>\n",
              "      <td>25896</td>\n",
              "      <td>0</td>\n",
              "      <td>2551696</td>\n",
              "      <td>0</td>\n",
              "      <td>0</td>\n",
              "      <td>0</td>\n",
              "      <td>0</td>\n",
              "      <td>0</td>\n",
              "      <td>4933296</td>\n",
              "      <td>3655166</td>\n",
              "      <td>1766008</td>\n",
              "      <td>1132040</td>\n",
              "      <td>0</td>\n",
              "      <td>0</td>\n",
              "      <td>0</td>\n",
              "      <td>0</td>\n",
              "      <td>1012</td>\n",
              "      <td>268</td>\n",
              "      <td>0</td>\n",
              "      <td>0</td>\n",
              "      <td>0</td>\n",
              "      <td>0</td>\n",
              "      <td>0</td>\n",
              "      <td>469014</td>\n",
              "      <td>4239660</td>\n",
              "      <td>...</td>\n",
              "      <td>18</td>\n",
              "      <td>5330690</td>\n",
              "      <td>4732</td>\n",
              "      <td>1126</td>\n",
              "      <td>0</td>\n",
              "      <td>0</td>\n",
              "      <td>0</td>\n",
              "      <td>0</td>\n",
              "      <td>0</td>\n",
              "      <td>0</td>\n",
              "      <td>0</td>\n",
              "      <td>0</td>\n",
              "      <td>62282</td>\n",
              "      <td>85908</td>\n",
              "      <td>32790</td>\n",
              "      <td>0</td>\n",
              "      <td>0</td>\n",
              "      <td>202710</td>\n",
              "      <td>37928</td>\n",
              "      <td>14745580</td>\n",
              "      <td>1876644</td>\n",
              "      <td>0</td>\n",
              "      <td>0</td>\n",
              "      <td>0</td>\n",
              "      <td>0</td>\n",
              "      <td>2801180</td>\n",
              "      <td>2445.8</td>\n",
              "      <td>2712</td>\n",
              "      <td>965866</td>\n",
              "      <td>1706908</td>\n",
              "      <td>1240520</td>\n",
              "      <td>493384</td>\n",
              "      <td>721044</td>\n",
              "      <td>469792</td>\n",
              "      <td>339156</td>\n",
              "      <td>157956</td>\n",
              "      <td>73224</td>\n",
              "      <td>0</td>\n",
              "      <td>0</td>\n",
              "      <td>0</td>\n",
              "    </tr>\n",
              "    <tr>\n",
              "      <th>1</th>\n",
              "      <td>neg</td>\n",
              "      <td>33058</td>\n",
              "      <td>na</td>\n",
              "      <td>0</td>\n",
              "      <td>na</td>\n",
              "      <td>0</td>\n",
              "      <td>0</td>\n",
              "      <td>0</td>\n",
              "      <td>0</td>\n",
              "      <td>0</td>\n",
              "      <td>0</td>\n",
              "      <td>18254</td>\n",
              "      <td>653294</td>\n",
              "      <td>1720800</td>\n",
              "      <td>516724</td>\n",
              "      <td>31642</td>\n",
              "      <td>0</td>\n",
              "      <td>1393352</td>\n",
              "      <td>0</td>\n",
              "      <td>68</td>\n",
              "      <td>0</td>\n",
              "      <td>0</td>\n",
              "      <td>0</td>\n",
              "      <td>2560898</td>\n",
              "      <td>2127150</td>\n",
              "      <td>1084598</td>\n",
              "      <td>338544</td>\n",
              "      <td>0</td>\n",
              "      <td>0</td>\n",
              "      <td>0</td>\n",
              "      <td>0</td>\n",
              "      <td>0</td>\n",
              "      <td>0</td>\n",
              "      <td>0</td>\n",
              "      <td>0</td>\n",
              "      <td>0</td>\n",
              "      <td>0</td>\n",
              "      <td>0</td>\n",
              "      <td>71510</td>\n",
              "      <td>772720</td>\n",
              "      <td>...</td>\n",
              "      <td>na</td>\n",
              "      <td>na</td>\n",
              "      <td>3312</td>\n",
              "      <td>522</td>\n",
              "      <td>0</td>\n",
              "      <td>0</td>\n",
              "      <td>0</td>\n",
              "      <td>0</td>\n",
              "      <td>0</td>\n",
              "      <td>0</td>\n",
              "      <td>0</td>\n",
              "      <td>0</td>\n",
              "      <td>33736</td>\n",
              "      <td>36946</td>\n",
              "      <td>5936</td>\n",
              "      <td>0</td>\n",
              "      <td>0</td>\n",
              "      <td>103330</td>\n",
              "      <td>16254</td>\n",
              "      <td>4510080</td>\n",
              "      <td>868538</td>\n",
              "      <td>0</td>\n",
              "      <td>0</td>\n",
              "      <td>0</td>\n",
              "      <td>0</td>\n",
              "      <td>3477820</td>\n",
              "      <td>2211.76</td>\n",
              "      <td>2334</td>\n",
              "      <td>664504</td>\n",
              "      <td>824154</td>\n",
              "      <td>421400</td>\n",
              "      <td>178064</td>\n",
              "      <td>293306</td>\n",
              "      <td>245416</td>\n",
              "      <td>133654</td>\n",
              "      <td>81140</td>\n",
              "      <td>97576</td>\n",
              "      <td>1500</td>\n",
              "      <td>0</td>\n",
              "      <td>0</td>\n",
              "    </tr>\n",
              "  </tbody>\n",
              "</table>\n",
              "<p>2 rows × 171 columns</p>\n",
              "</div>"
            ],
            "text/plain": [
              "  class  aa_000 ab_000      ac_000 ad_000  ...  ee_007 ee_008 ee_009 ef_000 eg_000\n",
              "0   neg   76698     na  2130706438    280  ...  157956  73224      0      0      0\n",
              "1   neg   33058     na           0     na  ...   81140  97576   1500      0      0\n",
              "\n",
              "[2 rows x 171 columns]"
            ]
          },
          "metadata": {
            "tags": []
          },
          "execution_count": 16
        }
      ]
    },
    {
      "cell_type": "markdown",
      "metadata": {
        "id": "0e4260f7"
      },
      "source": [
        "# Exploratory Data Analysis"
      ],
      "id": "0e4260f7"
    },
    {
      "cell_type": "code",
      "metadata": {
        "colab": {
          "base_uri": "https://localhost:8080/"
        },
        "id": "6565efbd",
        "outputId": "38201e59-b8c6-4049-8960-30eea1c8f775"
      },
      "source": [
        "print(\"Total number of Train datapoints: \",DF_TRAIN.shape[0])\n",
        "print(\"Total number of features: \",DF_TRAIN.shape[1])"
      ],
      "id": "6565efbd",
      "execution_count": 17,
      "outputs": [
        {
          "output_type": "stream",
          "text": [
            "Total number of Train datapoints:  60000\n",
            "Total number of features:  171\n"
          ],
          "name": "stdout"
        }
      ]
    },
    {
      "cell_type": "markdown",
      "metadata": {
        "id": "90651454"
      },
      "source": [
        "## Changing the Class label"
      ],
      "id": "90651454"
    },
    {
      "cell_type": "code",
      "metadata": {
        "id": "53931d38",
        "colab": {
          "base_uri": "https://localhost:8080/",
          "height": 161
        },
        "outputId": "cc588d2e-34d2-497b-85bd-6b8ab0117f97"
      },
      "source": [
        "# Converting the Class label to \n",
        "# neg = 0\n",
        "# pos = 1\n",
        "DF_TRAIN['class'] = DF_TRAIN['class'].map({'neg' : 0, 'pos' : 1})\n",
        "DF_TRAIN.head(2)"
      ],
      "id": "53931d38",
      "execution_count": 18,
      "outputs": [
        {
          "output_type": "execute_result",
          "data": {
            "text/html": [
              "<div>\n",
              "<style scoped>\n",
              "    .dataframe tbody tr th:only-of-type {\n",
              "        vertical-align: middle;\n",
              "    }\n",
              "\n",
              "    .dataframe tbody tr th {\n",
              "        vertical-align: top;\n",
              "    }\n",
              "\n",
              "    .dataframe thead th {\n",
              "        text-align: right;\n",
              "    }\n",
              "</style>\n",
              "<table border=\"1\" class=\"dataframe\">\n",
              "  <thead>\n",
              "    <tr style=\"text-align: right;\">\n",
              "      <th></th>\n",
              "      <th>class</th>\n",
              "      <th>aa_000</th>\n",
              "      <th>ab_000</th>\n",
              "      <th>ac_000</th>\n",
              "      <th>ad_000</th>\n",
              "      <th>ae_000</th>\n",
              "      <th>af_000</th>\n",
              "      <th>ag_000</th>\n",
              "      <th>ag_001</th>\n",
              "      <th>ag_002</th>\n",
              "      <th>ag_003</th>\n",
              "      <th>ag_004</th>\n",
              "      <th>ag_005</th>\n",
              "      <th>ag_006</th>\n",
              "      <th>ag_007</th>\n",
              "      <th>ag_008</th>\n",
              "      <th>ag_009</th>\n",
              "      <th>ah_000</th>\n",
              "      <th>ai_000</th>\n",
              "      <th>aj_000</th>\n",
              "      <th>ak_000</th>\n",
              "      <th>al_000</th>\n",
              "      <th>am_0</th>\n",
              "      <th>an_000</th>\n",
              "      <th>ao_000</th>\n",
              "      <th>ap_000</th>\n",
              "      <th>aq_000</th>\n",
              "      <th>ar_000</th>\n",
              "      <th>as_000</th>\n",
              "      <th>at_000</th>\n",
              "      <th>au_000</th>\n",
              "      <th>av_000</th>\n",
              "      <th>ax_000</th>\n",
              "      <th>ay_000</th>\n",
              "      <th>ay_001</th>\n",
              "      <th>ay_002</th>\n",
              "      <th>ay_003</th>\n",
              "      <th>ay_004</th>\n",
              "      <th>ay_005</th>\n",
              "      <th>ay_006</th>\n",
              "      <th>...</th>\n",
              "      <th>db_000</th>\n",
              "      <th>dc_000</th>\n",
              "      <th>dd_000</th>\n",
              "      <th>de_000</th>\n",
              "      <th>df_000</th>\n",
              "      <th>dg_000</th>\n",
              "      <th>dh_000</th>\n",
              "      <th>di_000</th>\n",
              "      <th>dj_000</th>\n",
              "      <th>dk_000</th>\n",
              "      <th>dl_000</th>\n",
              "      <th>dm_000</th>\n",
              "      <th>dn_000</th>\n",
              "      <th>do_000</th>\n",
              "      <th>dp_000</th>\n",
              "      <th>dq_000</th>\n",
              "      <th>dr_000</th>\n",
              "      <th>ds_000</th>\n",
              "      <th>dt_000</th>\n",
              "      <th>du_000</th>\n",
              "      <th>dv_000</th>\n",
              "      <th>dx_000</th>\n",
              "      <th>dy_000</th>\n",
              "      <th>dz_000</th>\n",
              "      <th>ea_000</th>\n",
              "      <th>eb_000</th>\n",
              "      <th>ec_00</th>\n",
              "      <th>ed_000</th>\n",
              "      <th>ee_000</th>\n",
              "      <th>ee_001</th>\n",
              "      <th>ee_002</th>\n",
              "      <th>ee_003</th>\n",
              "      <th>ee_004</th>\n",
              "      <th>ee_005</th>\n",
              "      <th>ee_006</th>\n",
              "      <th>ee_007</th>\n",
              "      <th>ee_008</th>\n",
              "      <th>ee_009</th>\n",
              "      <th>ef_000</th>\n",
              "      <th>eg_000</th>\n",
              "    </tr>\n",
              "  </thead>\n",
              "  <tbody>\n",
              "    <tr>\n",
              "      <th>0</th>\n",
              "      <td>0</td>\n",
              "      <td>76698</td>\n",
              "      <td>na</td>\n",
              "      <td>2130706438</td>\n",
              "      <td>280</td>\n",
              "      <td>0</td>\n",
              "      <td>0</td>\n",
              "      <td>0</td>\n",
              "      <td>0</td>\n",
              "      <td>0</td>\n",
              "      <td>0</td>\n",
              "      <td>37250</td>\n",
              "      <td>1432864</td>\n",
              "      <td>3664156</td>\n",
              "      <td>1007684</td>\n",
              "      <td>25896</td>\n",
              "      <td>0</td>\n",
              "      <td>2551696</td>\n",
              "      <td>0</td>\n",
              "      <td>0</td>\n",
              "      <td>0</td>\n",
              "      <td>0</td>\n",
              "      <td>0</td>\n",
              "      <td>4933296</td>\n",
              "      <td>3655166</td>\n",
              "      <td>1766008</td>\n",
              "      <td>1132040</td>\n",
              "      <td>0</td>\n",
              "      <td>0</td>\n",
              "      <td>0</td>\n",
              "      <td>0</td>\n",
              "      <td>1012</td>\n",
              "      <td>268</td>\n",
              "      <td>0</td>\n",
              "      <td>0</td>\n",
              "      <td>0</td>\n",
              "      <td>0</td>\n",
              "      <td>0</td>\n",
              "      <td>469014</td>\n",
              "      <td>4239660</td>\n",
              "      <td>...</td>\n",
              "      <td>18</td>\n",
              "      <td>5330690</td>\n",
              "      <td>4732</td>\n",
              "      <td>1126</td>\n",
              "      <td>0</td>\n",
              "      <td>0</td>\n",
              "      <td>0</td>\n",
              "      <td>0</td>\n",
              "      <td>0</td>\n",
              "      <td>0</td>\n",
              "      <td>0</td>\n",
              "      <td>0</td>\n",
              "      <td>62282</td>\n",
              "      <td>85908</td>\n",
              "      <td>32790</td>\n",
              "      <td>0</td>\n",
              "      <td>0</td>\n",
              "      <td>202710</td>\n",
              "      <td>37928</td>\n",
              "      <td>14745580</td>\n",
              "      <td>1876644</td>\n",
              "      <td>0</td>\n",
              "      <td>0</td>\n",
              "      <td>0</td>\n",
              "      <td>0</td>\n",
              "      <td>2801180</td>\n",
              "      <td>2445.8</td>\n",
              "      <td>2712</td>\n",
              "      <td>965866</td>\n",
              "      <td>1706908</td>\n",
              "      <td>1240520</td>\n",
              "      <td>493384</td>\n",
              "      <td>721044</td>\n",
              "      <td>469792</td>\n",
              "      <td>339156</td>\n",
              "      <td>157956</td>\n",
              "      <td>73224</td>\n",
              "      <td>0</td>\n",
              "      <td>0</td>\n",
              "      <td>0</td>\n",
              "    </tr>\n",
              "    <tr>\n",
              "      <th>1</th>\n",
              "      <td>0</td>\n",
              "      <td>33058</td>\n",
              "      <td>na</td>\n",
              "      <td>0</td>\n",
              "      <td>na</td>\n",
              "      <td>0</td>\n",
              "      <td>0</td>\n",
              "      <td>0</td>\n",
              "      <td>0</td>\n",
              "      <td>0</td>\n",
              "      <td>0</td>\n",
              "      <td>18254</td>\n",
              "      <td>653294</td>\n",
              "      <td>1720800</td>\n",
              "      <td>516724</td>\n",
              "      <td>31642</td>\n",
              "      <td>0</td>\n",
              "      <td>1393352</td>\n",
              "      <td>0</td>\n",
              "      <td>68</td>\n",
              "      <td>0</td>\n",
              "      <td>0</td>\n",
              "      <td>0</td>\n",
              "      <td>2560898</td>\n",
              "      <td>2127150</td>\n",
              "      <td>1084598</td>\n",
              "      <td>338544</td>\n",
              "      <td>0</td>\n",
              "      <td>0</td>\n",
              "      <td>0</td>\n",
              "      <td>0</td>\n",
              "      <td>0</td>\n",
              "      <td>0</td>\n",
              "      <td>0</td>\n",
              "      <td>0</td>\n",
              "      <td>0</td>\n",
              "      <td>0</td>\n",
              "      <td>0</td>\n",
              "      <td>71510</td>\n",
              "      <td>772720</td>\n",
              "      <td>...</td>\n",
              "      <td>na</td>\n",
              "      <td>na</td>\n",
              "      <td>3312</td>\n",
              "      <td>522</td>\n",
              "      <td>0</td>\n",
              "      <td>0</td>\n",
              "      <td>0</td>\n",
              "      <td>0</td>\n",
              "      <td>0</td>\n",
              "      <td>0</td>\n",
              "      <td>0</td>\n",
              "      <td>0</td>\n",
              "      <td>33736</td>\n",
              "      <td>36946</td>\n",
              "      <td>5936</td>\n",
              "      <td>0</td>\n",
              "      <td>0</td>\n",
              "      <td>103330</td>\n",
              "      <td>16254</td>\n",
              "      <td>4510080</td>\n",
              "      <td>868538</td>\n",
              "      <td>0</td>\n",
              "      <td>0</td>\n",
              "      <td>0</td>\n",
              "      <td>0</td>\n",
              "      <td>3477820</td>\n",
              "      <td>2211.76</td>\n",
              "      <td>2334</td>\n",
              "      <td>664504</td>\n",
              "      <td>824154</td>\n",
              "      <td>421400</td>\n",
              "      <td>178064</td>\n",
              "      <td>293306</td>\n",
              "      <td>245416</td>\n",
              "      <td>133654</td>\n",
              "      <td>81140</td>\n",
              "      <td>97576</td>\n",
              "      <td>1500</td>\n",
              "      <td>0</td>\n",
              "      <td>0</td>\n",
              "    </tr>\n",
              "  </tbody>\n",
              "</table>\n",
              "<p>2 rows × 171 columns</p>\n",
              "</div>"
            ],
            "text/plain": [
              "   class  aa_000 ab_000      ac_000 ad_000  ...  ee_007 ee_008 ee_009 ef_000 eg_000\n",
              "0      0   76698     na  2130706438    280  ...  157956  73224      0      0      0\n",
              "1      0   33058     na           0     na  ...   81140  97576   1500      0      0\n",
              "\n",
              "[2 rows x 171 columns]"
            ]
          },
          "metadata": {
            "tags": []
          },
          "execution_count": 18
        }
      ]
    },
    {
      "cell_type": "markdown",
      "metadata": {
        "id": "b84f2d62"
      },
      "source": [
        "## Class Label Distribution"
      ],
      "id": "b84f2d62"
    },
    {
      "cell_type": "code",
      "metadata": {
        "colab": {
          "base_uri": "https://localhost:8080/",
          "height": 331
        },
        "id": "44160da2",
        "outputId": "b365ee65-4fa9-4333-c679-5d9849e8771a"
      },
      "source": [
        "sns.countplot(DF_TRAIN['class'])\n",
        "plt.title('Class Label Distribution')\n",
        "plt.show()\n",
        "print('The number of positive class points is: ',DF_TRAIN['class'].value_counts()[1])\n",
        "print('The number of negative class points is: ',DF_TRAIN['class'].value_counts()[0])\n",
        "plt.show()"
      ],
      "id": "44160da2",
      "execution_count": 22,
      "outputs": [
        {
          "output_type": "display_data",
          "data": {
            "image/png": "[encoded data removed]",
            "text/plain": [
              "<Figure size 432x288 with 1 Axes>"
            ]
          },
          "metadata": {
            "tags": [],
            "needs_background": "light"
          }
        },
        {
          "output_type": "stream",
          "text": [
            "The number of positive class points is:  1000\n",
            "The number of negative class points is:  59000\n"
          ],
          "name": "stdout"
        }
      ]
    },
    {
      "cell_type": "markdown",
      "metadata": {
        "id": "4daba041"
      },
      "source": [
        "**Observation:**\n",
        "\n",
        "This dataset is **highly imbalanced** as the number of negative class points are much much more than the positive class points. "
      ],
      "id": "4daba041"
    },
    {
      "cell_type": "markdown",
      "metadata": {
        "id": "2b2d7649"
      },
      "source": [
        "## Checking the Data Type "
      ],
      "id": "2b2d7649"
    },
    {
      "cell_type": "code",
      "metadata": {
        "colab": {
          "base_uri": "https://localhost:8080/"
        },
        "id": "855c6809",
        "outputId": "654a3e65-c060-40df-8455-19473e7d711c"
      },
      "source": [
        "DF_TRAIN.dtypes"
      ],
      "id": "855c6809",
      "execution_count": null,
      "outputs": [
        {
          "output_type": "execute_result",
          "data": {
            "text/plain": [
              "class      int64\n",
              "aa_000     int64\n",
              "ab_000    object\n",
              "ac_000    object\n",
              "ad_000    object\n",
              "           ...  \n",
              "ee_007    object\n",
              "ee_008    object\n",
              "ee_009    object\n",
              "ef_000    object\n",
              "eg_000    object\n",
              "Length: 171, dtype: object"
            ]
          },
          "metadata": {
            "tags": []
          },
          "execution_count": 13
        }
      ]
    },
    {
      "cell_type": "code",
      "metadata": {
        "id": "233b076b",
        "colab": {
          "base_uri": "https://localhost:8080/"
        },
        "outputId": "70344de8-9fdf-4737-dbc0-698ea69063bc"
      },
      "source": [
        "# Replacing 'na' with np.nan\n",
        "DF_TRAIN = DF_TRAIN.replace('na', np.nan)\n",
        "\n",
        "# Converting the data to numeric form for further processing\n",
        "DF_TRAIN = DF_TRAIN.apply(pd.to_numeric)\n",
        "DF_TRAIN.dtypes"
      ],
      "id": "233b076b",
      "execution_count": 23,
      "outputs": [
        {
          "output_type": "execute_result",
          "data": {
            "text/plain": [
              "class       int64\n",
              "aa_000      int64\n",
              "ab_000    float64\n",
              "ac_000    float64\n",
              "ad_000    float64\n",
              "           ...   \n",
              "ee_007    float64\n",
              "ee_008    float64\n",
              "ee_009    float64\n",
              "ef_000    float64\n",
              "eg_000    float64\n",
              "Length: 171, dtype: object"
            ]
          },
          "metadata": {
            "tags": []
          },
          "execution_count": 23
        }
      ]
    },
    {
      "cell_type": "markdown",
      "metadata": {
        "id": "6e3d72af"
      },
      "source": [
        "## Checking the Missing Values"
      ],
      "id": "6e3d72af"
    },
    {
      "cell_type": "code",
      "metadata": {
        "colab": {
          "base_uri": "https://localhost:8080/",
          "height": 310
        },
        "id": "10b8686c",
        "outputId": "f9ee4482-dd7a-43b7-83a4-b7e42be82e38"
      },
      "source": [
        "# Heatmap showing missing values\n",
        "sns.heatmap(DF_TRAIN.isnull(), cbar=False, yticklabels=False, cmap='Blues')"
      ],
      "id": "10b8686c",
      "execution_count": null,
      "outputs": [
        {
          "output_type": "execute_result",
          "data": {
            "text/plain": [
              "<matplotlib.axes._subplots.AxesSubplot at 0x7fdbc7f62ed0>"
            ]
          },
          "metadata": {
            "tags": []
          },
          "execution_count": 16
        },
        {
          "output_type": "display_data",
          "data": {
            "image/png": "[encoded data removed]",
            "text/plain": [
              "<Figure size 432x288 with 1 Axes>"
            ]
          },
          "metadata": {
            "tags": [],
            "needs_background": "light"
          }
        }
      ]
    },
    {
      "cell_type": "code",
      "metadata": {
        "scrolled": true,
        "colab": {
          "base_uri": "https://localhost:8080/",
          "height": 365
        },
        "id": "022ceee1",
        "outputId": "50f5950a-a484-4838-ec7a-dc9ee3000759"
      },
      "source": [
        "# Percent of missing data in features\n",
        "missing = DF_TRAIN.isna().sum().div(DF_TRAIN.shape[0]).mul(100).to_frame().sort_values(by=0, ascending = False)\n",
        "missing.plot.bar(figsize=(50,10))\n",
        "plt.show()"
      ],
      "id": "022ceee1",
      "execution_count": 26,
      "outputs": [
        {
          "output_type": "display_data",
          "data": {
            "image/png": "[encoded data removed]",
            "text/plain": [
              "<Figure size 3600x720 with 1 Axes>"
            ]
          },
          "metadata": {
            "tags": [],
            "needs_background": "light"
          }
        }
      ]
    },
    {
      "cell_type": "markdown",
      "metadata": {
        "id": "58e9c1f9"
      },
      "source": [
        "**Observation:**\n",
        "\n",
        "Dataset have **significant** amount of missing data. Some features have more tha 80% missing values"
      ],
      "id": "58e9c1f9"
    },
    {
      "cell_type": "markdown",
      "metadata": {
        "id": "78ce26d3"
      },
      "source": [
        "### Removing the features having more than 60% missing data"
      ],
      "id": "78ce26d3"
    },
    {
      "cell_type": "code",
      "metadata": {
        "colab": {
          "base_uri": "https://localhost:8080/",
          "height": 299
        },
        "id": "738e7046",
        "outputId": "6dd24582-2dad-45f5-c4e2-942621ad5258"
      },
      "source": [
        "# Features with more than 60% missing values\n",
        "columns_missing = missing[missing[0]>60]\n",
        "columns_missing"
      ],
      "id": "738e7046",
      "execution_count": 27,
      "outputs": [
        {
          "output_type": "execute_result",
          "data": {
            "text/html": [
              "<div>\n",
              "<style scoped>\n",
              "    .dataframe tbody tr th:only-of-type {\n",
              "        vertical-align: middle;\n",
              "    }\n",
              "\n",
              "    .dataframe tbody tr th {\n",
              "        vertical-align: top;\n",
              "    }\n",
              "\n",
              "    .dataframe thead th {\n",
              "        text-align: right;\n",
              "    }\n",
              "</style>\n",
              "<table border=\"1\" class=\"dataframe\">\n",
              "  <thead>\n",
              "    <tr style=\"text-align: right;\">\n",
              "      <th></th>\n",
              "      <th>0</th>\n",
              "    </tr>\n",
              "  </thead>\n",
              "  <tbody>\n",
              "    <tr>\n",
              "      <th>br_000</th>\n",
              "      <td>82.106667</td>\n",
              "    </tr>\n",
              "    <tr>\n",
              "      <th>bq_000</th>\n",
              "      <td>81.203333</td>\n",
              "    </tr>\n",
              "    <tr>\n",
              "      <th>bp_000</th>\n",
              "      <td>79.566667</td>\n",
              "    </tr>\n",
              "    <tr>\n",
              "      <th>bo_000</th>\n",
              "      <td>77.221667</td>\n",
              "    </tr>\n",
              "    <tr>\n",
              "      <th>ab_000</th>\n",
              "      <td>77.215000</td>\n",
              "    </tr>\n",
              "    <tr>\n",
              "      <th>cr_000</th>\n",
              "      <td>77.215000</td>\n",
              "    </tr>\n",
              "    <tr>\n",
              "      <th>bn_000</th>\n",
              "      <td>73.348333</td>\n",
              "    </tr>\n",
              "    <tr>\n",
              "      <th>bm_000</th>\n",
              "      <td>65.915000</td>\n",
              "    </tr>\n",
              "  </tbody>\n",
              "</table>\n",
              "</div>"
            ],
            "text/plain": [
              "                0\n",
              "br_000  82.106667\n",
              "bq_000  81.203333\n",
              "bp_000  79.566667\n",
              "bo_000  77.221667\n",
              "ab_000  77.215000\n",
              "cr_000  77.215000\n",
              "bn_000  73.348333\n",
              "bm_000  65.915000"
            ]
          },
          "metadata": {
            "tags": []
          },
          "execution_count": 27
        }
      ]
    },
    {
      "cell_type": "code",
      "metadata": {
        "colab": {
          "base_uri": "https://localhost:8080/"
        },
        "id": "b05cb8fe",
        "outputId": "f69d1147-b1ef-41f9-f7ab-1cbc153dfdeb"
      },
      "source": [
        "# Removing the features having more than 60 % missing values\n",
        "DF_TRAIN_60_percent_missing_dropped = DF_TRAIN[DF_TRAIN.columns[DF_TRAIN.isnull().mean() < 0.6]]\n",
        "\n",
        "print('Old shape of the data : ',DF_TRAIN.shape)\n",
        "print('New shape of the data after dropping the features having more than 60% missing values', DF_TRAIN_60_percent_missing_dropped.shape)"
      ],
      "id": "b05cb8fe",
      "execution_count": 28,
      "outputs": [
        {
          "output_type": "stream",
          "text": [
            "Old shape of the data :  (60000, 171)\n",
            "New shape of the data after dropping the features having more than 60% missing values (60000, 163)\n"
          ],
          "name": "stdout"
        }
      ]
    },
    {
      "cell_type": "markdown",
      "metadata": {
        "id": "8347591d"
      },
      "source": [
        "## Missing Data Imputation using KNN Imputer"
      ],
      "id": "8347591d"
    },
    {
      "cell_type": "code",
      "metadata": {
        "colab": {
          "base_uri": "https://localhost:8080/"
        },
        "id": "cea37bf3",
        "outputId": "3bf64e3a-d87b-49dd-83d6-abdb65ea9c2a"
      },
      "source": [
        "# Seperating the class label \n",
        "X = DF_TRAIN_60_percent_missing_dropped.drop(['class'], axis=1)\n",
        "y = DF_TRAIN_60_percent_missing_dropped['class'] #  Label to predict\n",
        "\n",
        "print('The shape of X : ',X.shape)\n",
        "print('The shape of y : ',y.shape)"
      ],
      "id": "cea37bf3",
      "execution_count": 36,
      "outputs": [
        {
          "output_type": "stream",
          "text": [
            "The shape of X :  (60000, 162)\n",
            "The shape of y :  (60000,)\n"
          ],
          "name": "stdout"
        }
      ]
    },
    {
      "cell_type": "code",
      "metadata": {
        "id": "f541b82e"
      },
      "source": [
        "# Imputation of missing values in train data using KNN imputer from Scikit learn\n",
        "# Alternatively MICE (Multivariate Imputation by Chained Equations) can be used to impute the data\n",
        "\n",
        "imputer_knn = KNNImputer(n_neighbors=5, missing_values=np.nan)\n",
        "imputer_knn.fit(X)\n",
        "X_imputed = imputer_knn.transform(X)\n",
        "X_imputed = pd.DataFrame(X_imputed, columns=X.columns)\n",
        "\n",
        "# Saving imputed data\n",
        "DF_TRAIN_imputed_knn = X_imputed.copy()\n",
        "# Adding labels to the dataframe for saving\n",
        "DF_TRAIN_imputed_knn['class'] = y\n",
        "DF_TRAIN_imputed_knn.to_csv(DIR+'DF_TRAIN_imputed_knn.csv', index = False)"
      ],
      "id": "f541b82e",
      "execution_count": 38,
      "outputs": []
    },
    {
      "cell_type": "markdown",
      "metadata": {
        "id": "d40a3ee0"
      },
      "source": [
        "## Finding the Histogram and Numeric features\n",
        "as mentioned in the [datasource](https://archive.ics.uci.edu/ml/datasets/APS+Failure+at+Scania+Trucks), the data is a combination of histogram features and numeric features. The actual feature names are anonymized for proprietary reasons."
      ],
      "id": "d40a3ee0"
    },
    {
      "cell_type": "code",
      "metadata": {
        "id": "887d4af7"
      },
      "source": [
        "# Find histogram and Numeric features\n",
        "def get_histogram_identifiers(df):\n",
        "    identifier = []\n",
        "    for column in df.drop('class', axis=1).columns:\n",
        "        identifier.append(column.split('_')[0])\n",
        "        c = Counter(identifier)\n",
        "    return list(c.keys()), list(c.values())"
      ],
      "id": "887d4af7",
      "execution_count": 31,
      "outputs": []
    },
    {
      "cell_type": "code",
      "metadata": {
        "id": "fe334c9f"
      },
      "source": [
        "# Identifier and Bin id for the histogram features\n",
        "identifier, bin_id = get_histogram_identifiers(DF_TRAIN)"
      ],
      "id": "fe334c9f",
      "execution_count": 32,
      "outputs": []
    },
    {
      "cell_type": "code",
      "metadata": {
        "colab": {
          "base_uri": "https://localhost:8080/",
          "height": 571
        },
        "id": "e6e2b1d2",
        "outputId": "8f1f53e6-b00e-4a52-f924-9a0c28fac792"
      },
      "source": [
        "# Plot histogram bins\n",
        "plt.figure(figsize=(30,10))\n",
        "sns.barplot(x= identifier, y= bin_id, color='red')\n",
        "plt.xticks(rotation=45)\n",
        "plt.show()"
      ],
      "id": "e6e2b1d2",
      "execution_count": 33,
      "outputs": [
        {
          "output_type": "display_data",
          "data": {
            "image/png": "[encoded data removed]",
            "text/plain": [
              "<Figure size 2160x720 with 1 Axes>"
            ]
          },
          "metadata": {
            "tags": [],
            "needs_background": "light"
          }
        }
      ]
    },
    {
      "cell_type": "code",
      "metadata": {
        "id": "1ab4add4",
        "colab": {
          "base_uri": "https://localhost:8080/"
        },
        "outputId": "5deecfff-dd9d-423f-e693-cc0004eac768"
      },
      "source": [
        "# Get Histogram Labels\n",
        "histogram_labels = []\n",
        "for key,value in enumerate(bin_id):\n",
        "    if value == 10:\n",
        "        histogram_labels.append(identifier[key])\n",
        "\n",
        "# Columns with Histogram features\n",
        "columns_with_histogram_features = []\n",
        "columns_with_histogram_features = [column for column in X_imputed.columns if column.split('_')[0] in histogram_labels]\n",
        "columns_with_histogram_features"
      ],
      "id": "1ab4add4",
      "execution_count": 44,
      "outputs": [
        {
          "output_type": "execute_result",
          "data": {
            "text/plain": [
              "['ag_000',\n",
              " 'ag_001',\n",
              " 'ag_002',\n",
              " 'ag_003',\n",
              " 'ag_004',\n",
              " 'ag_005',\n",
              " 'ag_006',\n",
              " 'ag_007',\n",
              " 'ag_008',\n",
              " 'ag_009',\n",
              " 'ay_000',\n",
              " 'ay_001',\n",
              " 'ay_002',\n",
              " 'ay_003',\n",
              " 'ay_004',\n",
              " 'ay_005',\n",
              " 'ay_006',\n",
              " 'ay_007',\n",
              " 'ay_008',\n",
              " 'ay_009',\n",
              " 'az_000',\n",
              " 'az_001',\n",
              " 'az_002',\n",
              " 'az_003',\n",
              " 'az_004',\n",
              " 'az_005',\n",
              " 'az_006',\n",
              " 'az_007',\n",
              " 'az_008',\n",
              " 'az_009',\n",
              " 'ba_000',\n",
              " 'ba_001',\n",
              " 'ba_002',\n",
              " 'ba_003',\n",
              " 'ba_004',\n",
              " 'ba_005',\n",
              " 'ba_006',\n",
              " 'ba_007',\n",
              " 'ba_008',\n",
              " 'ba_009',\n",
              " 'cn_000',\n",
              " 'cn_001',\n",
              " 'cn_002',\n",
              " 'cn_003',\n",
              " 'cn_004',\n",
              " 'cn_005',\n",
              " 'cn_006',\n",
              " 'cn_007',\n",
              " 'cn_008',\n",
              " 'cn_009',\n",
              " 'cs_000',\n",
              " 'cs_001',\n",
              " 'cs_002',\n",
              " 'cs_003',\n",
              " 'cs_004',\n",
              " 'cs_005',\n",
              " 'cs_006',\n",
              " 'cs_007',\n",
              " 'cs_008',\n",
              " 'cs_009',\n",
              " 'ee_000',\n",
              " 'ee_001',\n",
              " 'ee_002',\n",
              " 'ee_003',\n",
              " 'ee_004',\n",
              " 'ee_005',\n",
              " 'ee_006',\n",
              " 'ee_007',\n",
              " 'ee_008',\n",
              " 'ee_009']"
            ]
          },
          "metadata": {
            "tags": []
          },
          "execution_count": 44
        }
      ]
    },
    {
      "cell_type": "markdown",
      "metadata": {
        "id": "a03d6f11"
      },
      "source": [
        "# Feature Selection\n",
        "\n",
        "\n",
        "1.   Remove Constant features (Features with zero standard deviation)\n",
        "2.   Removing duplicated features \n",
        "3.   Removing correlated features \n",
        "4.   Feature selection using PCA (Recursive feature elimination could also be used) "
      ],
      "id": "a03d6f11"
    },
    {
      "cell_type": "markdown",
      "metadata": {
        "id": "bdemutTghCD-"
      },
      "source": [
        "## Remove Constant & Quasi-Constant Features"
      ],
      "id": "bdemutTghCD-"
    },
    {
      "cell_type": "code",
      "metadata": {
        "id": "d4f38474",
        "colab": {
          "base_uri": "https://localhost:8080/"
        },
        "outputId": "fa03f8d7-86c4-4222-cd3d-10b31bb6c38f"
      },
      "source": [
        "constant_features = [feat for feat in X_imputed.columns if X_imputed[feat].std() == 0]\n",
        "X_imputed.drop(labels=constant_features, axis=1, inplace=True)\n",
        "constant_features"
      ],
      "id": "d4f38474",
      "execution_count": 50,
      "outputs": [
        {
          "output_type": "execute_result",
          "data": {
            "text/plain": [
              "['cd_000']"
            ]
          },
          "metadata": {
            "tags": []
          },
          "execution_count": 50
        }
      ]
    },
    {
      "cell_type": "code",
      "metadata": {
        "colab": {
          "base_uri": "https://localhost:8080/"
        },
        "id": "15e7c9ec",
        "outputId": "4325c2dc-06ba-4937-948c-3fb5095819ce"
      },
      "source": [
        "# remove quasi-constant features\n",
        "sel = VarianceThreshold(threshold=0.01)  # 0.1 indicates 99% of observations approximately\n",
        "sel.fit(X_imputed)"
      ],
      "id": "15e7c9ec",
      "execution_count": 53,
      "outputs": [
        {
          "output_type": "execute_result",
          "data": {
            "text/plain": [
              "VarianceThreshold(threshold=0.01)"
            ]
          },
          "metadata": {
            "tags": []
          },
          "execution_count": 53
        }
      ]
    },
    {
      "cell_type": "code",
      "metadata": {
        "colab": {
          "base_uri": "https://localhost:8080/"
        },
        "id": "dcdb7d8b",
        "outputId": "225d73f0-e37b-43e2-b7de-9c49196fdec5"
      },
      "source": [
        "quasi_constant = X_imputed.columns[~sel.get_support()]\n",
        "print('Number of quasi-constant features : ',len(quasi_constant))"
      ],
      "id": "dcdb7d8b",
      "execution_count": 56,
      "outputs": [
        {
          "output_type": "stream",
          "text": [
            "Number of quasi-constant features :  1\n"
          ],
          "name": "stdout"
        }
      ]
    },
    {
      "cell_type": "code",
      "metadata": {
        "colab": {
          "base_uri": "https://localhost:8080/"
        },
        "id": "25f057de",
        "outputId": "35b0a600-9c47-4e8f-9608-1747d876339a"
      },
      "source": [
        "# Quasi constant feature name \n",
        "quasi_constant"
      ],
      "id": "25f057de",
      "execution_count": null,
      "outputs": [
        {
          "output_type": "execute_result",
          "data": {
            "text/plain": [
              "Index(['ch_000'], dtype='object')"
            ]
          },
          "metadata": {
            "tags": []
          },
          "execution_count": 40
        }
      ]
    },
    {
      "cell_type": "code",
      "metadata": {
        "colab": {
          "base_uri": "https://localhost:8080/"
        },
        "id": "e5ee5797",
        "outputId": "bc324add-8c37-46ac-84cc-b14149f9613e"
      },
      "source": [
        "# percentage of different values of the feature\n",
        "X_imputed['ch_000'].value_counts() / np.float(len(X_imputed))"
      ],
      "id": "e5ee5797",
      "execution_count": null,
      "outputs": [
        {
          "output_type": "execute_result",
          "data": {
            "text/plain": [
              "0.0    0.999783\n",
              "2.0    0.000167\n",
              "0.4    0.000050\n",
              "Name: ch_000, dtype: float64"
            ]
          },
          "metadata": {
            "tags": []
          },
          "execution_count": 41
        }
      ]
    },
    {
      "cell_type": "code",
      "metadata": {
        "id": "f9cc9ef7"
      },
      "source": [
        "feat_names = X_imputed.columns[sel.get_support()]"
      ],
      "id": "f9cc9ef7",
      "execution_count": 57,
      "outputs": []
    },
    {
      "cell_type": "code",
      "metadata": {
        "id": "d6a41e6e"
      },
      "source": [
        "# Transforming the data\n",
        "X_imputed = sel.transform(X_imputed)\n",
        "\n",
        "# trasnform the array into a dataframe, as the output of VarianceThreshold is an array\n",
        "X_imputed = pd.DataFrame(X_imputed, columns=feat_names)\n",
        "test_df_imputed = pd.DataFrame(test_df_imputed, columns=feat_names)"
      ],
      "id": "d6a41e6e",
      "execution_count": null,
      "outputs": []
    },
    {
      "cell_type": "markdown",
      "metadata": {
        "id": "OvRDdMJ6hKzu"
      },
      "source": [
        "## Removing Duplicated Features"
      ],
      "id": "OvRDdMJ6hKzu"
    },
    {
      "cell_type": "code",
      "metadata": {
        "colab": {
          "base_uri": "https://localhost:8080/"
        },
        "id": "25372407",
        "outputId": "366277cc-54da-4094-afaa-5f00fc1e09d3"
      },
      "source": [
        "# Checking for duplicate features\n",
        "sel_duplicate = DropDuplicateFeatures( missing_values='raise')\n",
        "sel_duplicate.fit(X_imputed)"
      ],
      "id": "25372407",
      "execution_count": null,
      "outputs": [
        {
          "output_type": "execute_result",
          "data": {
            "text/plain": [
              "DropDuplicateFeatures(missing_values='raise',\n",
              "                      variables=['aa_000', 'ac_000', 'ad_000', 'ae_000',\n",
              "                                 'af_000', 'ag_000', 'ag_001', 'ag_002',\n",
              "                                 'ag_003', 'ag_004', 'ag_005', 'ag_006',\n",
              "                                 'ag_007', 'ag_008', 'ag_009', 'ah_000',\n",
              "                                 'ai_000', 'aj_000', 'ak_000', 'al_000', 'am_0',\n",
              "                                 'an_000', 'ao_000', 'ap_000', 'aq_000',\n",
              "                                 'ar_000', 'as_000', 'at_000', 'au_000',\n",
              "                                 'av_000', ...])"
            ]
          },
          "metadata": {
            "tags": []
          },
          "execution_count": 45
        }
      ]
    },
    {
      "cell_type": "code",
      "metadata": {
        "colab": {
          "base_uri": "https://localhost:8080/"
        },
        "id": "f945dfeb",
        "outputId": "5786b1aa-dee8-4988-a011-4cea3d968933"
      },
      "source": [
        "print('Number of duplicate features are : ', len(sel_duplicate.features_to_drop_))"
      ],
      "id": "f945dfeb",
      "execution_count": null,
      "outputs": [
        {
          "output_type": "stream",
          "text": [
            "Number of duplicate features are :  0\n"
          ],
          "name": "stdout"
        }
      ]
    },
    {
      "cell_type": "markdown",
      "metadata": {
        "id": "dTrrYl7yhM9u"
      },
      "source": [
        "## Removing Correlated Features"
      ],
      "id": "dTrrYl7yhM9u"
    },
    {
      "cell_type": "code",
      "metadata": {
        "colab": {
          "base_uri": "https://localhost:8080/"
        },
        "id": "6d0e3fe1",
        "outputId": "39f27900-6775-497c-9cbe-9c56ca7de367"
      },
      "source": [
        "# Finding correlated features\n",
        "def correlation(dataset, threshold):\n",
        "    col_corr = set()  # Set of all the names of correlated columns\n",
        "    \n",
        "    corr_matrix = dataset.corr()\n",
        "    \n",
        "    for i in range(len(corr_matrix.columns)):\n",
        "    \n",
        "        for j in range(i):\n",
        "            if abs(corr_matrix.iloc[i, j]) > threshold: # we are interested in absolute coeff value\n",
        "                colname = corr_matrix.columns[i]  # getting the name of column\n",
        "                col_corr.add(colname)\n",
        "    return col_corr\n",
        "\n",
        "corr_features = correlation(X_imputed, 0.8)\n",
        "print('Number of correlated features: ', len(set(corr_features)) )"
      ],
      "id": "6d0e3fe1",
      "execution_count": 58,
      "outputs": [
        {
          "output_type": "stream",
          "text": [
            "Number of correlated features:  62\n"
          ],
          "name": "stdout"
        }
      ]
    },
    {
      "cell_type": "code",
      "metadata": {
        "id": "0de9deeb"
      },
      "source": [
        "# Removing the correlated features\n",
        "X_imputed.drop(labels= corr_features, axis=1, inplace= True)"
      ],
      "id": "0de9deeb",
      "execution_count": 59,
      "outputs": []
    },
    {
      "cell_type": "code",
      "metadata": {
        "colab": {
          "base_uri": "https://localhost:8080/"
        },
        "id": "b3d12b7c",
        "outputId": "1ee0daae-2fe3-4981-ab9f-8ad4ac8cd63f"
      },
      "source": [
        "print('The number of features in training data : ', X_imputed.shape[1] )"
      ],
      "id": "b3d12b7c",
      "execution_count": 60,
      "outputs": [
        {
          "output_type": "stream",
          "text": [
            "The number of features in training data :  99\n"
          ],
          "name": "stdout"
        }
      ]
    },
    {
      "cell_type": "code",
      "metadata": {
        "id": "d1a211e0"
      },
      "source": [
        "# Standardize the values\n",
        "scaler = StandardScaler()\n",
        "scaler.fit(X_imputed)\n",
        "X_train_scaled = scaler.transform(X_imputed) #without split\n",
        "\n",
        "# Converting StnadardScaler output back to Pandas dataframe\n",
        "X_train_scaled = pd.DataFrame(X_train_scaled, index=X_imputed.index, columns=X_imputed.columns)"
      ],
      "id": "d1a211e0",
      "execution_count": 63,
      "outputs": []
    },
    {
      "cell_type": "code",
      "metadata": {
        "id": "f769fbd5"
      },
      "source": [
        "# Balancing the  training dataset \n",
        "smote = SMOTE()\n",
        "X_train_balanced, y_train_balanced = smote.fit_sample(X_train_scaled, y)"
      ],
      "id": "f769fbd5",
      "execution_count": 79,
      "outputs": []
    },
    {
      "cell_type": "code",
      "metadata": {
        "id": "9ed10d6f"
      },
      "source": [
        "X_train_balanced = pd.DataFrame(X_train_balanced,  columns=X_train_scaled.columns)\n",
        "y_train_balanced = pd.DataFrame(y_train_balanced, columns=['class'])\n",
        "\n",
        "# Concatinate dataframe\n",
        "balanced_df = pd.concat([X_train_balanced, y_train_balanced], axis=1)"
      ],
      "id": "9ed10d6f",
      "execution_count": 81,
      "outputs": []
    },
    {
      "cell_type": "code",
      "metadata": {
        "colab": {
          "base_uri": "https://localhost:8080/",
          "height": 297
        },
        "id": "nOBQdFu5fcV0",
        "outputId": "61b74bd0-bf07-449e-a9aa-c9b134a74620"
      },
      "source": [
        "# Checking the class distribution after balancing the data\n",
        "sns.countplot(balanced_df['class'])"
      ],
      "id": "nOBQdFu5fcV0",
      "execution_count": 85,
      "outputs": [
        {
          "output_type": "execute_result",
          "data": {
            "text/plain": [
              "<matplotlib.axes._subplots.AxesSubplot at 0x7fa638bf8a90>"
            ]
          },
          "metadata": {
            "tags": []
          },
          "execution_count": 85
        },
        {
          "output_type": "display_data",
          "data": {
            "image/png": "[encoded data removed]",
            "text/plain": [
              "<Figure size 432x288 with 1 Axes>"
            ]
          },
          "metadata": {
            "tags": [],
            "needs_background": "light"
          }
        }
      ]
    },
    {
      "cell_type": "markdown",
      "metadata": {
        "id": "cff209a2"
      },
      "source": [
        "## PCA"
      ],
      "id": "cff209a2"
    },
    {
      "cell_type": "code",
      "metadata": {
        "colab": {
          "base_uri": "https://localhost:8080/"
        },
        "id": "ef826d76",
        "outputId": "c8d9cf1b-1366-4d50-e7bc-ccb5c79687a7"
      },
      "source": [
        "pca = PCA()\n",
        "pca.fit(X_train_balanced)"
      ],
      "id": "ef826d76",
      "execution_count": null,
      "outputs": [
        {
          "output_type": "execute_result",
          "data": {
            "text/plain": [
              "PCA(copy=True, iterated_power='auto', n_components=None, random_state=None,\n",
              "    svd_solver='auto', tol=0.0, whiten=False)"
            ]
          },
          "metadata": {
            "tags": []
          },
          "execution_count": 70
        }
      ]
    },
    {
      "cell_type": "code",
      "metadata": {
        "colab": {
          "base_uri": "https://localhost:8080/",
          "height": 350
        },
        "id": "b39ca07d",
        "outputId": "a36dfaab-da72-40eb-ec86-3ad186adb001"
      },
      "source": [
        "plt.rcParams[\"figure.figsize\"] = (10,5)\n",
        "fig, ax = plt.subplots()\n",
        "xi = np.arange(1, 99, step=1)\n",
        "yi = np.cumsum(pca.explained_variance_ratio_)\n",
        "plt.ylim(0.0,1.1)\n",
        "plt.plot(xi, yi, marker='o', linestyle='--', color='b')\n",
        "plt.xlabel('Number of Components')\n",
        "plt.ylabel('Cumulative variance (%)')\n",
        "plt.title('Explained variance in the data by components')\n",
        "plt.axhline(y=0.90, color='g', linestyle='-')\n",
        "plt.text(0.5, 0.85, '90% variance', color = 'green', fontsize=12)\n",
        "plt.axhline(y= 0.95, color='g', linestyle='-')\n",
        "plt.text(0.5, 0.97, '95% variance', color = 'green', fontsize=12)\n",
        "ax.grid(axis='x')\n",
        "plt.show()"
      ],
      "id": "b39ca07d",
      "execution_count": null,
      "outputs": [
        {
          "output_type": "display_data",
          "data": {
            "image/png": "[encoded data removed]",
            "text/plain": [
              "<Figure size 720x360 with 1 Axes>"
            ]
          },
          "metadata": {
            "tags": [],
            "needs_background": "light"
          }
        }
      ]
    },
    {
      "cell_type": "markdown",
      "metadata": {
        "id": "f882f747"
      },
      "source": [
        "**Observation:**\n",
        "\n",
        "From above graph, around 50 features are required to explain the 95% variance of the data and almost 98 features to completely explain the variance"
      ],
      "id": "f882f747"
    }
  ]
}